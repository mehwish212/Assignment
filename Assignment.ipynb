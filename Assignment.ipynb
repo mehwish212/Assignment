{
 "cells": [
  {
   "cell_type": "code",
   "execution_count": 4,
   "metadata": {},
   "outputs": [
    {
     "name": "stdout",
     "output_type": "stream",
     "text": [
      "player earned 5 points.\n"
     ]
    }
   ],
   "source": [
    "alien_color = 'Green'\n",
    "if alien_color == 'Green':\n",
    "    points = 5\n",
    "    print (\"player earned \"+ str(points) +\" points.\")\n",
    "\n",
    "alien_color = 'red'\n",
    "if alien_color == 'Green':\n",
    "    points = 5\n",
    "    print (\"player earned \"+ str(points) +\" points.\")\n"
   ]
  },
  {
   "cell_type": "code",
   "execution_count": 6,
   "metadata": {},
   "outputs": [
    {
     "name": "stdout",
     "output_type": "stream",
     "text": [
      "player earned 10 points.\n"
     ]
    }
   ],
   "source": [
    "alien_color = 'red'\n",
    "if alien_color == 'green':\n",
    "    points = 5\n",
    "else:\n",
    "    points =10\n",
    "    \n",
    "print (\"player earned \"+ str(points) +\" points.\")\n"
   ]
  },
  {
   "cell_type": "code",
   "execution_count": 7,
   "metadata": {},
   "outputs": [
    {
     "name": "stdout",
     "output_type": "stream",
     "text": [
      "alien points are 15.\n"
     ]
    }
   ],
   "source": [
    "alien_color = 'red'\n",
    "if alien_color == 'green':\n",
    "    points = 5\n",
    "elif alien_color == 'yellow':\n",
    "    points = 10\n",
    "else:\n",
    "    alien_color =='red'\n",
    "    points =15\n",
    "print(\"alien points are \"+str(points)+\".\" )"
   ]
  },
  {
   "cell_type": "code",
   "execution_count": 8,
   "metadata": {},
   "outputs": [
    {
     "name": "stdout",
     "output_type": "stream",
     "text": [
      "he is a kid\n"
     ]
    }
   ],
   "source": [
    "age = 10\n",
    "if age < 2:\n",
    "    person =\"he is a baby\"\n",
    "elif age >= 2 and  age <4:\n",
    "    person = \"he is a toddler\"\n",
    "elif age >= 4 and age < 13:\n",
    "    person = \"he is a kid\"\n",
    "elif age >=13 and age < 20:\n",
    "    person =\"he is a teenage\"\n",
    "elif age >=20 and age <= 65:\n",
    "    person =\"he is adult\"\n",
    "else:\n",
    "    age > 65\n",
    "    person =\"he is older\"\n",
    "print(person)\n",
    "    \n",
    "            \n",
    "        \n"
   ]
  },
  {
   "cell_type": "code",
   "execution_count": 13,
   "metadata": {},
   "outputs": [
    {
     "name": "stdout",
     "output_type": "stream",
     "text": [
      "pineapple is my favourite  fruit\n",
      "banana is my fav fruit\n",
      "orange is my favourite  fruit\n"
     ]
    }
   ],
   "source": [
    "fruit =['pineapple', 'banana','orange']\n",
    "for i in fruit:\n",
    "    if i == 'banana':\n",
    "        print(str(i)+\" is my fav fruit\")\n",
    "    if i == 'orange':\n",
    "        print(str(i)+\" is my favourite  fruit\")\n",
    "    if i == 'berry':\n",
    "        print(str(i)+\" is my fav fruit\")\n",
    "    if i == 'strawberry':\n",
    "        print(str(i)+\" is my favourite  fruit\")\n",
    "    if i == 'mango':\n",
    "        print(str(i)+\" is my favourite  fruit\")\n",
    "    if i == 'pineapple':\n",
    "        print(str(i)+\" is my favourite  fruit\")"
   ]
  },
  {
   "cell_type": "code",
   "execution_count": null,
   "metadata": {
    "collapsed": true
   },
   "outputs": [],
   "source": []
  }
 ],
 "metadata": {
  "kernelspec": {
   "display_name": "Python 3",
   "language": "python",
   "name": "python3"
  },
  "language_info": {
   "codemirror_mode": {
    "name": "ipython",
    "version": 3
   },
   "file_extension": ".py",
   "mimetype": "text/x-python",
   "name": "python",
   "nbconvert_exporter": "python",
   "pygments_lexer": "ipython3",
   "version": "3.6.1"
  }
 },
 "nbformat": 4,
 "nbformat_minor": 2
}
